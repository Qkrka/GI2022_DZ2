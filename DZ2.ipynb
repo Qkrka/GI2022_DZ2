{
 "cells": [
  {
   "cell_type": "code",
   "execution_count": 19,
   "id": "6116df36-8396-483c-a552-1c98c4357e99",
   "metadata": {},
   "outputs": [
    {
     "name": "stdout",
     "output_type": "stream",
     "text": [
      "Flag value of read # 1  :  1187\n",
      "Query name of read # 1  :  C0HVYACXX120402:7:1207:5722:57044\n",
      "Sequence of read # 1  :  TTTTCAAACAGTATCTATGCCTGCCAAATGTGAACATATAAAAAAAAACCAGAATGTGCCATTCTGATTTAAACTG\n",
      "Reference ID of read # 1  :  20\n",
      "Reference start of read # 1  :  9483248\n",
      "Mapping quality of read # 1  :  27\n",
      "Cigar of read # 1  :  [(0, 76)]\n",
      "Next ref ID of read # 1  :  20\n",
      "Next ref start of read # 1  :  9483381\n",
      "Query qualities of read # 1  :  array('B', [28, 28, 27, 29, 31, 30, 31, 31, 29, 31, 35, 30, 29, 31, 34, 30, 29, 23, 41, 32, 20, 30, 29, 34, 34, 29, 30, 31, 30, 30, 30, 33, 33, 26, 39, 12, 25, 19, 32, 30, 35, 28, 35, 33, 23, 33, 35, 36, 30, 38, 33, 41, 34, 35, 31, 33, 23, 30, 30, 36, 27, 32, 29, 34, 35, 41, 33, 31, 33, 29, 32, 32, 31, 31, 31, 34])\n",
      "Tags of read # 1  :  [('XA', 'GL000217.1,-110754,76M,1;'), ('BD', 'NNNNNNNNNNNNNNNNNNNNNNNNNNNNNNNNNNNNNNNNNNNNNNNNNNNNNNNNNNNNNNNNNNNNNNNNNNNN'), ('MD', '76'), ('RG', '1'), ('BI', 'NNNNNNNNNNNNNNNNNNNNNNNNNNNNNNNNNNNNNNNNNNNNNNNNNNNNNNNNNNNNNNNNNNNNNNNNNNNN'), ('NM', 0), ('MQ', 27), ('AS', 76), ('XS', 71)] \n",
      "\n",
      "Flag value of read # 2  :  163\n",
      "Flag value of read # 3  :  99\n",
      "Flag value of read # 4  :  99\n",
      "Flag value of read # 5  :  99\n",
      "\n",
      "\n",
      "Unmapped reads :  17765\n",
      "Total number of reads :  2921629\n",
      "Number of reads with mapping quality 0 :  126628\n",
      "Average mapping quality for all reads :  55.91379158681681\n",
      "Average mapping quality (0 mapp quality reads filtered) :  58.446975510921106\n"
     ]
    }
   ],
   "source": [
    "import pysam\n",
    "bamfile = pysam.AlignmentFile(\"/sbgenomics/project-files/merged-tumor.bam\", \"rb\")\n",
    "\n",
    "i = 0\n",
    "unmapped_count = 0\n",
    "zero_quality_count = 0\n",
    "quality_sum = 0\n",
    "\n",
    "for read in bamfile.fetch():\n",
    "    i += 1\n",
    "    if i <= 5:\n",
    "        print(\"Flag value of read #\", str(i), \" : \", str(read.flag))\n",
    "    if i == 1:\n",
    "        print(\"Query name of read #\", str(i) ,\" : \", str(read.query_name))\n",
    "        print(\"Sequence of read #\", str(i) ,\" : \", str(read.query_sequence))\n",
    "        print(\"Reference ID of read #\", str(i) ,\" : \", str(read.reference_id))\n",
    "        print(\"Reference start of read #\", str(i) ,\" : \", str(read.reference_start))\n",
    "        print(\"Mapping quality of read #\", str(i) ,\" : \", str(read.mapping_quality))\n",
    "        print(\"Cigar of read #\", str(i) ,\" : \", str(read.cigar))\n",
    "        print(\"Next ref ID of read #\", str(i) ,\" : \", str(read.next_reference_id))\n",
    "        print(\"Next ref start of read #\", str(i) ,\" : \", str(read.next_reference_start))\n",
    "        print(\"Query qualities of read #\", str(i) ,\" : \", str(read.query_qualities))\n",
    "        print(\"Tags of read #\", str(i) ,\" : \", str(read.tags), \"\\n\")\n",
    "        \n",
    "    if read.is_unmapped:\n",
    "        unmapped_count += 1\n",
    "    if read.mapping_quality == 0:\n",
    "        zero_quality_count += 1\n",
    "    quality_sum += read.mapping_quality\n",
    "total = pysam.AlignmentFile.count(bamfile)\n",
    "\n",
    "print(\"\\n\")\n",
    "print(\"Unmapped reads : \", str(unmapped_count))\n",
    "print(\"Total number of reads : \", total)\n",
    "print(\"Number of reads with mapping quality 0 : \", str(zero_quality_count))   \n",
    "print(\"Average mapping quality for all reads : \", str(quality_sum/total))\n",
    "print(\"Average mapping quality (0 mapp quality reads filtered) : \", str(quality_sum/(total-zero_quality_count)))\n",
    " "
   ]
  }
 ],
 "metadata": {
  "kernelspec": {
   "display_name": "Python 3 (ipykernel)",
   "language": "python",
   "name": "python3"
  },
  "language_info": {
   "codemirror_mode": {
    "name": "ipython",
    "version": 3
   },
   "file_extension": ".py",
   "mimetype": "text/x-python",
   "name": "python",
   "nbconvert_exporter": "python",
   "pygments_lexer": "ipython3",
   "version": "3.9.6"
  }
 },
 "nbformat": 4,
 "nbformat_minor": 5
}
